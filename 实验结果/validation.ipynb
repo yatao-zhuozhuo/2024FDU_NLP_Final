{
 "cells": [
  {
   "cell_type": "code",
   "execution_count": 5,
   "metadata": {},
   "outputs": [
    {
     "ename": "ZeroDivisionError",
     "evalue": "division by zero",
     "output_type": "error",
     "traceback": [
      "\u001b[0;31m---------------------------------------------------------------------------\u001b[0m",
      "\u001b[0;31mZeroDivisionError\u001b[0m                         Traceback (most recent call last)",
      "Cell \u001b[0;32mIn[5], line 36\u001b[0m\n\u001b[1;32m     32\u001b[0m             correct \u001b[38;5;241m+\u001b[39m\u001b[38;5;241m=\u001b[39m \u001b[38;5;241m1\u001b[39m\n\u001b[1;32m     34\u001b[0m         total \u001b[38;5;241m+\u001b[39m\u001b[38;5;241m=\u001b[39m \u001b[38;5;241m1\u001b[39m\n\u001b[0;32m---> 36\u001b[0m \u001b[38;5;28mprint\u001b[39m(\u001b[38;5;124m'\u001b[39m\u001b[38;5;124mAccuracy:\u001b[39m\u001b[38;5;124m'\u001b[39m, \u001b[43mcorrect\u001b[49m\u001b[43m \u001b[49m\u001b[38;5;241;43m/\u001b[39;49m\u001b[43m \u001b[49m\u001b[43mtotal\u001b[49m)\n",
      "\u001b[0;31mZeroDivisionError\u001b[0m: division by zero"
     ]
    }
   ],
   "source": [
    "import json\n",
    "import re\n",
    "\n",
    "def extract_boxed_content(text):\n",
    "    matches = re.findall(r'\\\\boxed\\{(.*?)\\}', text)  # MATH\n",
    "    # matches = re.findall(r'####\\s*(\\d+)', text)  # GSM8K\n",
    "    if not matches:\n",
    "        matches = [\"No Content\"]  # if no content found\n",
    "    return matches\n",
    "\n",
    "inputs = []\n",
    "standard_answers = []\n",
    "predicted_responses = []\n",
    "\n",
    "correct = 0\n",
    "total = 0\n",
    "result_path = '/root/Class_trem5/NLP_class/LLaMA-Factory/saves/Qwen2.5-0.5B/lora/eval_tweak/generated_predictions.jsonl'\n",
    "\n",
    "with open(result_path, 'r') as f:\n",
    "    for line in f:\n",
    "        text = json.loads(line)  # 每行是一个JSON对象\n",
    "        standard_answer_matches = extract_boxed_content(text['predict'])\n",
    "        predicted_response_matches = extract_boxed_content(text['label'])\n",
    "        \n",
    "        standard_unique = list(set(standard_answer_matches))\n",
    "        predicted_unique = list(set(predicted_response_matches))\n",
    "        \n",
    "        if standard_unique == ['No Content']:\n",
    "            continue  # Skip if no content in standard answer\n",
    "        \n",
    "        if sorted(standard_unique) == sorted(predicted_unique):\n",
    "            correct += 1\n",
    "        \n",
    "        total += 1\n",
    "\n",
    "print('Accuracy:', correct / total)\n"
   ]
  }
 ],
 "metadata": {
  "kernelspec": {
   "display_name": "rag",
   "language": "python",
   "name": "python3"
  },
  "language_info": {
   "codemirror_mode": {
    "name": "ipython",
    "version": 3
   },
   "file_extension": ".py",
   "mimetype": "text/x-python",
   "name": "python",
   "nbconvert_exporter": "python",
   "pygments_lexer": "ipython3",
   "version": "3.10.14"
  }
 },
 "nbformat": 4,
 "nbformat_minor": 2
}
