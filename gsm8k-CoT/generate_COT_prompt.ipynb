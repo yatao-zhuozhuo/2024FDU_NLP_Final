{
 "cells": [
  {
   "cell_type": "code",
   "execution_count": 1,
   "metadata": {},
   "outputs": [],
   "source": [
    "%load_ext autoreload\n",
    "%autoreload 2"
   ]
  },
  {
   "cell_type": "code",
   "execution_count": 2,
   "metadata": {},
   "outputs": [],
   "source": [
    "# File paths\n",
    "grouped_training_file = '../grade-school-math/grade_school_math/data/train_gr20.jsonl'\n",
    "train_sample_file = '../grade-school-math/grade_school_math/data/train_gr20_samples.json'\n",
    "output_file = '../grade-school-math/grade_school_math/data/train_gr20_cot_qa.jsonl'\n",
    "train_sample_cot_file = '../grade-school-math/grade_school_math/data/train_gr20_sample_cot.json'"
   ]
  },
  {
   "cell_type": "code",
   "execution_count": 3,
   "metadata": {},
   "outputs": [
    {
     "data": {
      "text/plain": [
       "[{'question': 'For an operations manager job at a company, a person with a degree earns three times the amount paid to a diploma holder for the same position. How much will Jared earn from the company in a year after graduating with a degree if the pay for a person holding a diploma certificate is $4000 per month?',\n",
       "  'answer': 'Since the pay for a person holding a degree is three times the amount paid for a diploma holder, Jared will earn 3*$4000 = $<<4000*3=12000>>12000 per month.\\nIn a year with 12 months, Jared will earn a total of 12*12000 = <<12*12000=144000>>144000\\n#### 144000',\n",
       "  'group_number': 0},\n",
       " {'question': 'Susan is taking a two week vacation. She works five days a week and has six days of paid vacation. The rest of her workdays will be unpaid vacation time. She gets paid $15 per hour and works 8 hours a day. How much pay will she miss on her vacation?',\n",
       "  'answer': 'Susan works 2 * 5 = <<2*5=10>>10 days in two weeks.\\nShe is taking 10 - 6 = <<10-6=4>>4 days of unpaid vacation.\\nAt $15 per hour, she is paid 15 * 8 = $<<15*8=120>>120 per day.\\nAt $120 per day, Susan will miss 120 * 4 = $<<120*4=480>>480 on her vacation.\\n#### 480',\n",
       "  'group_number': 0},\n",
       " {'question': 'It takes 3 men an hour to complete a job. If they are hired to work on 5 such similar jobs by a company that pays each of them $10 per hour, calculate the total amount of money the three will earn when they complete the jobs?',\n",
       "  'answer': \"Since they are paid $10 each per hour of work and can complete a job in one hour, they earn a total of $10*3=$<<10*3=30>>30 together for an hour of work.\\nIf they earn together $30 for one job, for the five jobs, they'll earn $30*5=$<<30*5=150>>150\\n#### 150\",\n",
       "  'group_number': 0},\n",
       " {'question': 'Tammy has 10 orange trees from which she can pick 12 oranges each day. Tammy sells 6-packs of oranges for $2. How much money will Tammy have earned after 3 weeks if she sells all her oranges?',\n",
       "  'answer': 'Tammy picks 10 trees x 12 oranges/tree = <<10*12=120>>120 oranges per day.\\nTammy sells 120 oranges/day / 6 oranges/pack = <<120/6=20>>20 6-packs of oranges a day\\nTammy sells 20 packs/day x 7 days/week = <<20*7=140>>140 6-packs a week\\nIn 3 weeks Tammy sells 140 packs/week x 3 weeks = <<140*3=420>>420 6 -packs\\nTammy makes 420 packs x $2/pack = $<<420*2=840>>840\\n#### 840',\n",
       "  'group_number': 0},\n",
       " {'question': 'Bob orders a dozen muffins a day for $0.75 each and sells them for $1.5 each.  How much profit does he make a week?',\n",
       "  'answer': 'He buys them for 12*.75=$<<12*.75=9>>9\\nHe sells them for 12*1.5=$<<12*1.5=18>>18\\nSo he makes 18-9=$<<18-9=9>>9 per day\\nThat means he makes 9*7=$<<9*7=63>>63 per week\\n#### 63',\n",
       "  'group_number': 0},\n",
       " {'question': \"A plant supplier was able to sell 20 pieces of orchids for $50 each and 15 pieces potted Chinese money plant for $25. The money he earned was then used to pay his two workers $40 each and to buy new pots worth $150. How much money was left from the plant supplier's earnings?\",\n",
       "  'answer': \"The plant supplier earned $50 x 20 = $<<50*20=1000>>1000 for the orchids.\\nHe earned $25 x 15 = $<<25*15=375>>375 for the potted Chinese money plants.\\nSo, his total earnings was $1000 + $375 = $<<1000+375=1375>>1375.\\nThen he paid $40 x 2 = $<<40*2=80>>80 to his workers.\\nHe used a total of $80 + $150 = $<<80+150=230>>230 for the worker's pay and new pots.\\nHence, he was left with $1375 - $230 = $<<1145=1145>>1145 from his earnings.\\n#### 1145\",\n",
       "  'group_number': 0},\n",
       " {'question': 'Macey saves to buy herself a shirt that costs $3. She was able to save $1.50 already. How many weeks does she need to save for the remaining amount if she saves $0.50 per week?',\n",
       "  'answer': 'Macey needs to save $3 - $1.50 = $<<3-1.5=1.50>>1.50 more for the shirt.\\nSo she needs $1.50/$0.50 = <<1.50/0.50=3>>3 more weeks to save for the remaining amount.\\n#### 3',\n",
       "  'group_number': 0},\n",
       " {'question': 'Cherry put up a delivery service. She charges $2.50 for a 3-5 kilograms cargo and $4 for a 6-8 kilograms cargo. If she delivers four 5 kilograms cargo and two 8 kilograms cargo per day, how much money will she earn in a week?',\n",
       "  'answer': 'Cherry earns $2.50 x 4= $<<2.5*4=10>>10 after delivering four 5 kilograms of cargo per day.\\nShe earns $4 x 2= $<<4*2=8>>8 after delivering two 8 kilograms of cargo per day.\\nSo, her total earning per day is $8+$10= $<<8+10=18>>18.\\nTherefore, she will earn $18 x 7= $<<18*7=126>>126 in a week.\\n#### 126',\n",
       "  'group_number': 0}]"
      ]
     },
     "execution_count": 3,
     "metadata": {},
     "output_type": "execute_result"
    }
   ],
   "source": [
    "import json\n",
    "import os\n",
    "from openai import OpenAI\n",
    "from tqdm import tqdm  # Optional: For a progress bar\n",
    "\n",
    "# Load train sample data\n",
    "with open(train_sample_file, 'r') as f:\n",
    "    train_sample = json.load(f)\n",
    "train_sample[0]"
   ]
  },
  {
   "cell_type": "code",
   "execution_count": 4,
   "metadata": {},
   "outputs": [
    {
     "name": "stderr",
     "output_type": "stream",
     "text": [
      "Processing groups: 20it [13:02, 39.10s/it]\n"
     ]
    }
   ],
   "source": [
    "# Enhanced data storage\n",
    "enhanced_data = []\n",
    "\n",
    "client = OpenAI(\n",
    "    api_key=os.environ.get(\"OPENAI_API_KEY\"),\n",
    "    base_url=os.environ.get(\"OPENAI_API_BASE\")\n",
    ")\n",
    "\n",
    "# Iterate through each group\n",
    "for group_number, group_items in tqdm(enumerate(train_sample), desc=\"Processing groups\"):\n",
    "    enhanced_group = []\n",
    "    for item in group_items:\n",
    "        question = item[\"question\"]\n",
    "        answer = item[\"answer\"]\n",
    "\n",
    "        # Generate enhanced CoT explanation using the OpenAI API\n",
    "        try:\n",
    "            response = client.chat.completions.create(\n",
    "                model=\"gpt-4o-mini\",\n",
    "                messages=[\n",
    "                    {\"role\": \"system\", \"content\": \"You are a helpful assistant specializing in generating well structured explanations for educational content.\"},\n",
    "                    {\n",
    "                        \"role\": \"user\",\n",
    "                        \"content\": f\"Generate a detailed chain of thought explanation for the answer, do not include the question itself. In other words, you need to write a step by step explanation that enhances the original answer. Also, you need to follow the original answer's format, that is 1. Do not use latex formula symbols cause that is not used in orignal answer. Instead, use simple  arithmetic operators like +,-,*,/ to denote the calculation.\\n2. Wrap each formula inside << >> followd by the result of the calculation. For example: 3 - $1.50 = $<<3-1.5=1.50>>1.50  or 2.50 x 4= $<<2.5*4=10>>10\\n3. At the end of your cot answer, add four # followed by a whitespace and then the final numeric answer. For example, if the answer gives a final result of 126, append this to your explanation:'\\\\n#### 126'  \\n\\n Here is the original answer, you can see that it follows the format we just talked about: {answer}\\n\\nYour step by step explanation:\"\n",
    "                    }\n",
    "                ]\n",
    "            )\n",
    "            cot_prompt = response.choices[0].message.content\n",
    "\n",
    "            # Add the CoT prompt to the original item\n",
    "            item[\"cot_answer\"] = cot_prompt\n",
    "            enhanced_group.append(item)\n",
    "        except Exception as e:\n",
    "            print(\n",
    "                f\"Error processing group {group_number}, item: {question}. Error: {e}\")\n",
    "            continue\n",
    "\n",
    "    # Append enhanced group to the data\n",
    "    enhanced_data.append(enhanced_group)\n",
    "    \n",
    "    # Save the enhanced data to a new file\n",
    "    with open(train_sample_cot_file, 'w') as f:\n",
    "        json.dump(enhanced_data, f, indent=2, ensure_ascii=False)\n",
    "\n"
   ]
  },
  {
   "cell_type": "code",
   "execution_count": 5,
   "metadata": {},
   "outputs": [
    {
     "data": {
      "text/plain": [
       "{'question': 'For an operations manager job at a company, a person with a degree earns three times the amount paid to a diploma holder for the same position. How much will Jared earn from the company in a year after graduating with a degree if the pay for a person holding a diploma certificate is $4000 per month?',\n",
       " 'answer': 'Since the pay for a person holding a degree is three times the amount paid for a diploma holder, Jared will earn 3*$4000 = $<<4000*3=12000>>12000 per month.\\nIn a year with 12 months, Jared will earn a total of 12*12000 = <<12*12000=144000>>144000\\n#### 144000',\n",
       " 'group_number': 0,\n",
       " 'cot_answer': \"First, we start by recognizing that there is a distinction between the earnings of two different levels of education: a degree holder and a diploma holder. Jared, in this scenario, has a degree which significantly impacts his potential earnings.\\n\\n1. Given that the pay for a diploma holder is stated to be $4000 per month, we can first establish the baseline salary for diploma holders, which is $4000.\\n\\n2. Since Jared holds a degree, we can calculate his monthly earnings by using the fact that he earns three times what a diploma holder makes. Therefore, we perform the calculation as follows: \\n\\n   Degree salary per month = 3 * Salary of diploma holder\\n   This translates to: 3 * $4000 = $<<4000*3=12000>>12000. \\n   Hence, Jared earns $12000 every month.\\n\\n3. Now that we have determined Jared's monthly salary, we want to find out what his total earnings would be for an entire year. Knowing there are 12 months in a year, we multiply his monthly salary by the number of months: \\n\\n   Total yearly earnings = Monthly salary * 12\\n   Therefore, this gives us: 12 * $12000 = $<<12*12000=144000>>144000. \\n   Thus, Jared will earn a total of $144000 in one year.\\n\\nThrough this systematic assessment of Jared's earnings based on his educational qualifications, we can conclude that his annual income is indeed substantial, given his degree status. \\n\\n#### 144000\"}"
      ]
     },
     "execution_count": 5,
     "metadata": {},
     "output_type": "execute_result"
    }
   ],
   "source": [
    "enhanced_data[0][0]"
   ]
  },
  {
   "cell_type": "code",
   "execution_count": 6,
   "metadata": {},
   "outputs": [
    {
     "name": "stdout",
     "output_type": "stream",
     "text": [
      "File '../grade-school-math/grade_school_math/data/train_gr20_cot_qa.jsonl' has been successfully created.\n"
     ]
    }
   ],
   "source": [
    "import json\n",
    "import random\n",
    "\n",
    "# Load grouped training data\n",
    "grouped_training = []\n",
    "with open(grouped_training_file, 'r') as f:\n",
    "    for line in f:\n",
    "        grouped_training.append(json.loads(line))\n",
    "\n",
    "# Load sampled training data\n",
    "with open(train_sample_cot_file, 'r') as f:\n",
    "    train_sample = json.load(f)\n",
    "\n",
    "# Ensure train_sample has exactly 20 lists (one for each group)\n",
    "assert len(train_sample) == 20, \"Train sample must contain 20 groups.\"\n",
    "\n",
    "# Create the output file\n",
    "with open(output_file, 'w') as out_f:\n",
    "    for item in grouped_training:\n",
    "        group_number = item['group_number']\n",
    "        # Get a random sample from the same group\n",
    "        cot_prompt = random.choice(train_sample[group_number])\n",
    "        # Construct the new JSON object\n",
    "        new_item = {\n",
    "            \"cot_prompt\": cot_prompt,\n",
    "            \"qa\": item\n",
    "        }\n",
    "        # Write to the output file in JSONL format\n",
    "        out_f.write(json.dumps(new_item) + '\\n')\n",
    "\n",
    "print(f\"File '{output_file}' has been successfully created.\")\n"
   ]
  },
  {
   "cell_type": "code",
   "execution_count": null,
   "metadata": {},
   "outputs": [],
   "source": []
  },
  {
   "cell_type": "code",
   "execution_count": null,
   "metadata": {},
   "outputs": [],
   "source": []
  },
  {
   "cell_type": "code",
   "execution_count": null,
   "metadata": {},
   "outputs": [],
   "source": []
  }
 ],
 "metadata": {
  "kernelspec": {
   "display_name": "cu121",
   "language": "python",
   "name": "python3"
  },
  "language_info": {
   "codemirror_mode": {
    "name": "ipython",
    "version": 3
   },
   "file_extension": ".py",
   "mimetype": "text/x-python",
   "name": "python",
   "nbconvert_exporter": "python",
   "pygments_lexer": "ipython3",
   "version": "3.10.15"
  }
 },
 "nbformat": 4,
 "nbformat_minor": 2
}
