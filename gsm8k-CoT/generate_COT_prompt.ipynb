{
 "cells": [
  {
   "cell_type": "code",
   "execution_count": 1,
   "metadata": {},
   "outputs": [],
   "source": [
    "%load_ext autoreload\n",
    "%autoreload 2"
   ]
  },
  {
   "cell_type": "code",
   "execution_count": null,
   "metadata": {},
   "outputs": [],
   "source": [
    "# File paths\n",
    "grouped_training_file = '../grade-school-math/grade_school_math/data/train_gr20.jsonl'\n",
    "train_sample_file = '../grade-school-math/grade_school_math/data/train_gr20_samples.json'\n",
    "output_file = '../grade-school-math/grade_school_math/data/train_gr20_cot_qa.jsonl'\n",
    "train_sample_cot_file = '../grade-school-math/grade_school_math/data/train_gr20_sample_cot.json'"
   ]
  },
  {
   "cell_type": "code",
   "execution_count": 3,
   "metadata": {},
   "outputs": [
    {
     "data": {
      "text/plain": [
       "[{'question': 'For an operations manager job at a company, a person with a degree earns three times the amount paid to a diploma holder for the same position. How much will Jared earn from the company in a year after graduating with a degree if the pay for a person holding a diploma certificate is $4000 per month?',\n",
       "  'answer': 'Since the pay for a person holding a degree is three times the amount paid for a diploma holder, Jared will earn 3*$4000 = $<<4000*3=12000>>12000 per month.\\nIn a year with 12 months, Jared will earn a total of 12*12000 = <<12*12000=144000>>144000\\n#### 144000',\n",
       "  'group_number': 0},\n",
       " {'question': 'Susan is taking a two week vacation. She works five days a week and has six days of paid vacation. The rest of her workdays will be unpaid vacation time. She gets paid $15 per hour and works 8 hours a day. How much pay will she miss on her vacation?',\n",
       "  'answer': 'Susan works 2 * 5 = <<2*5=10>>10 days in two weeks.\\nShe is taking 10 - 6 = <<10-6=4>>4 days of unpaid vacation.\\nAt $15 per hour, she is paid 15 * 8 = $<<15*8=120>>120 per day.\\nAt $120 per day, Susan will miss 120 * 4 = $<<120*4=480>>480 on her vacation.\\n#### 480',\n",
       "  'group_number': 0},\n",
       " {'question': 'It takes 3 men an hour to complete a job. If they are hired to work on 5 such similar jobs by a company that pays each of them $10 per hour, calculate the total amount of money the three will earn when they complete the jobs?',\n",
       "  'answer': \"Since they are paid $10 each per hour of work and can complete a job in one hour, they earn a total of $10*3=$<<10*3=30>>30 together for an hour of work.\\nIf they earn together $30 for one job, for the five jobs, they'll earn $30*5=$<<30*5=150>>150\\n#### 150\",\n",
       "  'group_number': 0},\n",
       " {'question': 'Tammy has 10 orange trees from which she can pick 12 oranges each day. Tammy sells 6-packs of oranges for $2. How much money will Tammy have earned after 3 weeks if she sells all her oranges?',\n",
       "  'answer': 'Tammy picks 10 trees x 12 oranges/tree = <<10*12=120>>120 oranges per day.\\nTammy sells 120 oranges/day / 6 oranges/pack = <<120/6=20>>20 6-packs of oranges a day\\nTammy sells 20 packs/day x 7 days/week = <<20*7=140>>140 6-packs a week\\nIn 3 weeks Tammy sells 140 packs/week x 3 weeks = <<140*3=420>>420 6 -packs\\nTammy makes 420 packs x $2/pack = $<<420*2=840>>840\\n#### 840',\n",
       "  'group_number': 0},\n",
       " {'question': 'Bob orders a dozen muffins a day for $0.75 each and sells them for $1.5 each.  How much profit does he make a week?',\n",
       "  'answer': 'He buys them for 12*.75=$<<12*.75=9>>9\\nHe sells them for 12*1.5=$<<12*1.5=18>>18\\nSo he makes 18-9=$<<18-9=9>>9 per day\\nThat means he makes 9*7=$<<9*7=63>>63 per week\\n#### 63',\n",
       "  'group_number': 0},\n",
       " {'question': \"A plant supplier was able to sell 20 pieces of orchids for $50 each and 15 pieces potted Chinese money plant for $25. The money he earned was then used to pay his two workers $40 each and to buy new pots worth $150. How much money was left from the plant supplier's earnings?\",\n",
       "  'answer': \"The plant supplier earned $50 x 20 = $<<50*20=1000>>1000 for the orchids.\\nHe earned $25 x 15 = $<<25*15=375>>375 for the potted Chinese money plants.\\nSo, his total earnings was $1000 + $375 = $<<1000+375=1375>>1375.\\nThen he paid $40 x 2 = $<<40*2=80>>80 to his workers.\\nHe used a total of $80 + $150 = $<<80+150=230>>230 for the worker's pay and new pots.\\nHence, he was left with $1375 - $230 = $<<1145=1145>>1145 from his earnings.\\n#### 1145\",\n",
       "  'group_number': 0},\n",
       " {'question': 'Macey saves to buy herself a shirt that costs $3. She was able to save $1.50 already. How many weeks does she need to save for the remaining amount if she saves $0.50 per week?',\n",
       "  'answer': 'Macey needs to save $3 - $1.50 = $<<3-1.5=1.50>>1.50 more for the shirt.\\nSo she needs $1.50/$0.50 = <<1.50/0.50=3>>3 more weeks to save for the remaining amount.\\n#### 3',\n",
       "  'group_number': 0},\n",
       " {'question': 'Cherry put up a delivery service. She charges $2.50 for a 3-5 kilograms cargo and $4 for a 6-8 kilograms cargo. If she delivers four 5 kilograms cargo and two 8 kilograms cargo per day, how much money will she earn in a week?',\n",
       "  'answer': 'Cherry earns $2.50 x 4= $<<2.5*4=10>>10 after delivering four 5 kilograms of cargo per day.\\nShe earns $4 x 2= $<<4*2=8>>8 after delivering two 8 kilograms of cargo per day.\\nSo, her total earning per day is $8+$10= $<<8+10=18>>18.\\nTherefore, she will earn $18 x 7= $<<18*7=126>>126 in a week.\\n#### 126',\n",
       "  'group_number': 0}]"
      ]
     },
     "execution_count": 3,
     "metadata": {},
     "output_type": "execute_result"
    }
   ],
   "source": [
    "import json\n",
    "import os\n",
    "from openai import OpenAI\n",
    "from tqdm import tqdm  # Optional: For a progress bar\n",
    "\n",
    "# Load train sample data\n",
    "with open(train_sample_file, 'r') as f:\n",
    "    train_sample = json.load(f)\n",
    "train_sample[0]"
   ]
  },
  {
   "cell_type": "code",
   "execution_count": null,
   "metadata": {},
   "outputs": [
    {
     "name": "stderr",
     "output_type": "stream",
     "text": [
      "Processing groups: 0it [00:00, ?it/s]"
     ]
    },
    {
     "name": "stderr",
     "output_type": "stream",
     "text": [
      "Processing groups: 20it [12:18, 36.90s/it]\n"
     ]
    },
    {
     "ename": "TypeError",
     "evalue": "Object of type ChatCompletionMessage is not JSON serializable",
     "output_type": "error",
     "traceback": [
      "\u001b[0;31m---------------------------------------------------------------------------\u001b[0m",
      "\u001b[0;31mTypeError\u001b[0m                                 Traceback (most recent call last)",
      "Cell \u001b[0;32mIn[5], line 43\u001b[0m\n\u001b[1;32m     41\u001b[0m \u001b[38;5;66;03m# Save the enhanced data to a new file\u001b[39;00m\n\u001b[1;32m     42\u001b[0m \u001b[38;5;28;01mwith\u001b[39;00m \u001b[38;5;28mopen\u001b[39m(train_sample_cot_file, \u001b[38;5;124m'\u001b[39m\u001b[38;5;124mw\u001b[39m\u001b[38;5;124m'\u001b[39m) \u001b[38;5;28;01mas\u001b[39;00m f:\n\u001b[0;32m---> 43\u001b[0m     \u001b[43mjson\u001b[49m\u001b[38;5;241;43m.\u001b[39;49m\u001b[43mdump\u001b[49m\u001b[43m(\u001b[49m\u001b[43menhanced_data\u001b[49m\u001b[43m,\u001b[49m\u001b[43m \u001b[49m\u001b[43mf\u001b[49m\u001b[43m,\u001b[49m\u001b[43m \u001b[49m\u001b[43mindent\u001b[49m\u001b[38;5;241;43m=\u001b[39;49m\u001b[38;5;241;43m2\u001b[39;49m\u001b[43m,\u001b[49m\u001b[43m \u001b[49m\u001b[43mensure_ascii\u001b[49m\u001b[38;5;241;43m=\u001b[39;49m\u001b[38;5;28;43;01mFalse\u001b[39;49;00m\u001b[43m)\u001b[49m\n\u001b[1;32m     45\u001b[0m \u001b[38;5;28mprint\u001b[39m(\n\u001b[1;32m     46\u001b[0m     \u001b[38;5;124mf\u001b[39m\u001b[38;5;124m\"\u001b[39m\u001b[38;5;124mEnhanced data with CoT prompts has been saved to \u001b[39m\u001b[38;5;124m'\u001b[39m\u001b[38;5;132;01m{\u001b[39;00mtrain_sample_cot_file\u001b[38;5;132;01m}\u001b[39;00m\u001b[38;5;124m'\u001b[39m\u001b[38;5;124m.\u001b[39m\u001b[38;5;124m\"\u001b[39m)\n",
      "File \u001b[0;32m~/miniconda3/envs/cu121/lib/python3.10/json/__init__.py:179\u001b[0m, in \u001b[0;36mdump\u001b[0;34m(obj, fp, skipkeys, ensure_ascii, check_circular, allow_nan, cls, indent, separators, default, sort_keys, **kw)\u001b[0m\n\u001b[1;32m    173\u001b[0m     iterable \u001b[38;5;241m=\u001b[39m \u001b[38;5;28mcls\u001b[39m(skipkeys\u001b[38;5;241m=\u001b[39mskipkeys, ensure_ascii\u001b[38;5;241m=\u001b[39mensure_ascii,\n\u001b[1;32m    174\u001b[0m         check_circular\u001b[38;5;241m=\u001b[39mcheck_circular, allow_nan\u001b[38;5;241m=\u001b[39mallow_nan, indent\u001b[38;5;241m=\u001b[39mindent,\n\u001b[1;32m    175\u001b[0m         separators\u001b[38;5;241m=\u001b[39mseparators,\n\u001b[1;32m    176\u001b[0m         default\u001b[38;5;241m=\u001b[39mdefault, sort_keys\u001b[38;5;241m=\u001b[39msort_keys, \u001b[38;5;241m*\u001b[39m\u001b[38;5;241m*\u001b[39mkw)\u001b[38;5;241m.\u001b[39miterencode(obj)\n\u001b[1;32m    177\u001b[0m \u001b[38;5;66;03m# could accelerate with writelines in some versions of Python, at\u001b[39;00m\n\u001b[1;32m    178\u001b[0m \u001b[38;5;66;03m# a debuggability cost\u001b[39;00m\n\u001b[0;32m--> 179\u001b[0m \u001b[38;5;28;01mfor\u001b[39;00m chunk \u001b[38;5;129;01min\u001b[39;00m iterable:\n\u001b[1;32m    180\u001b[0m     fp\u001b[38;5;241m.\u001b[39mwrite(chunk)\n",
      "File \u001b[0;32m~/miniconda3/envs/cu121/lib/python3.10/json/encoder.py:429\u001b[0m, in \u001b[0;36m_make_iterencode.<locals>._iterencode\u001b[0;34m(o, _current_indent_level)\u001b[0m\n\u001b[1;32m    427\u001b[0m     \u001b[38;5;28;01myield\u001b[39;00m _floatstr(o)\n\u001b[1;32m    428\u001b[0m \u001b[38;5;28;01melif\u001b[39;00m \u001b[38;5;28misinstance\u001b[39m(o, (\u001b[38;5;28mlist\u001b[39m, \u001b[38;5;28mtuple\u001b[39m)):\n\u001b[0;32m--> 429\u001b[0m     \u001b[38;5;28;01myield from\u001b[39;00m _iterencode_list(o, _current_indent_level)\n\u001b[1;32m    430\u001b[0m \u001b[38;5;28;01melif\u001b[39;00m \u001b[38;5;28misinstance\u001b[39m(o, \u001b[38;5;28mdict\u001b[39m):\n\u001b[1;32m    431\u001b[0m     \u001b[38;5;28;01myield from\u001b[39;00m _iterencode_dict(o, _current_indent_level)\n",
      "File \u001b[0;32m~/miniconda3/envs/cu121/lib/python3.10/json/encoder.py:325\u001b[0m, in \u001b[0;36m_make_iterencode.<locals>._iterencode_list\u001b[0;34m(lst, _current_indent_level)\u001b[0m\n\u001b[1;32m    323\u001b[0m         \u001b[38;5;28;01melse\u001b[39;00m:\n\u001b[1;32m    324\u001b[0m             chunks \u001b[38;5;241m=\u001b[39m _iterencode(value, _current_indent_level)\n\u001b[0;32m--> 325\u001b[0m         \u001b[38;5;28;01myield from\u001b[39;00m chunks\n\u001b[1;32m    326\u001b[0m \u001b[38;5;28;01mif\u001b[39;00m newline_indent \u001b[38;5;129;01mis\u001b[39;00m \u001b[38;5;129;01mnot\u001b[39;00m \u001b[38;5;28;01mNone\u001b[39;00m:\n\u001b[1;32m    327\u001b[0m     _current_indent_level \u001b[38;5;241m-\u001b[39m\u001b[38;5;241m=\u001b[39m \u001b[38;5;241m1\u001b[39m\n",
      "File \u001b[0;32m~/miniconda3/envs/cu121/lib/python3.10/json/encoder.py:325\u001b[0m, in \u001b[0;36m_make_iterencode.<locals>._iterencode_list\u001b[0;34m(lst, _current_indent_level)\u001b[0m\n\u001b[1;32m    323\u001b[0m         \u001b[38;5;28;01melse\u001b[39;00m:\n\u001b[1;32m    324\u001b[0m             chunks \u001b[38;5;241m=\u001b[39m _iterencode(value, _current_indent_level)\n\u001b[0;32m--> 325\u001b[0m         \u001b[38;5;28;01myield from\u001b[39;00m chunks\n\u001b[1;32m    326\u001b[0m \u001b[38;5;28;01mif\u001b[39;00m newline_indent \u001b[38;5;129;01mis\u001b[39;00m \u001b[38;5;129;01mnot\u001b[39;00m \u001b[38;5;28;01mNone\u001b[39;00m:\n\u001b[1;32m    327\u001b[0m     _current_indent_level \u001b[38;5;241m-\u001b[39m\u001b[38;5;241m=\u001b[39m \u001b[38;5;241m1\u001b[39m\n",
      "File \u001b[0;32m~/miniconda3/envs/cu121/lib/python3.10/json/encoder.py:405\u001b[0m, in \u001b[0;36m_make_iterencode.<locals>._iterencode_dict\u001b[0;34m(dct, _current_indent_level)\u001b[0m\n\u001b[1;32m    403\u001b[0m         \u001b[38;5;28;01melse\u001b[39;00m:\n\u001b[1;32m    404\u001b[0m             chunks \u001b[38;5;241m=\u001b[39m _iterencode(value, _current_indent_level)\n\u001b[0;32m--> 405\u001b[0m         \u001b[38;5;28;01myield from\u001b[39;00m chunks\n\u001b[1;32m    406\u001b[0m \u001b[38;5;28;01mif\u001b[39;00m newline_indent \u001b[38;5;129;01mis\u001b[39;00m \u001b[38;5;129;01mnot\u001b[39;00m \u001b[38;5;28;01mNone\u001b[39;00m:\n\u001b[1;32m    407\u001b[0m     _current_indent_level \u001b[38;5;241m-\u001b[39m\u001b[38;5;241m=\u001b[39m \u001b[38;5;241m1\u001b[39m\n",
      "File \u001b[0;32m~/miniconda3/envs/cu121/lib/python3.10/json/encoder.py:438\u001b[0m, in \u001b[0;36m_make_iterencode.<locals>._iterencode\u001b[0;34m(o, _current_indent_level)\u001b[0m\n\u001b[1;32m    436\u001b[0m         \u001b[38;5;28;01mraise\u001b[39;00m \u001b[38;5;167;01mValueError\u001b[39;00m(\u001b[38;5;124m\"\u001b[39m\u001b[38;5;124mCircular reference detected\u001b[39m\u001b[38;5;124m\"\u001b[39m)\n\u001b[1;32m    437\u001b[0m     markers[markerid] \u001b[38;5;241m=\u001b[39m o\n\u001b[0;32m--> 438\u001b[0m o \u001b[38;5;241m=\u001b[39m \u001b[43m_default\u001b[49m\u001b[43m(\u001b[49m\u001b[43mo\u001b[49m\u001b[43m)\u001b[49m\n\u001b[1;32m    439\u001b[0m \u001b[38;5;28;01myield from\u001b[39;00m _iterencode(o, _current_indent_level)\n\u001b[1;32m    440\u001b[0m \u001b[38;5;28;01mif\u001b[39;00m markers \u001b[38;5;129;01mis\u001b[39;00m \u001b[38;5;129;01mnot\u001b[39;00m \u001b[38;5;28;01mNone\u001b[39;00m:\n",
      "File \u001b[0;32m~/miniconda3/envs/cu121/lib/python3.10/json/encoder.py:179\u001b[0m, in \u001b[0;36mJSONEncoder.default\u001b[0;34m(self, o)\u001b[0m\n\u001b[1;32m    160\u001b[0m \u001b[38;5;28;01mdef\u001b[39;00m \u001b[38;5;21mdefault\u001b[39m(\u001b[38;5;28mself\u001b[39m, o):\n\u001b[1;32m    161\u001b[0m \u001b[38;5;250m    \u001b[39m\u001b[38;5;124;03m\"\"\"Implement this method in a subclass such that it returns\u001b[39;00m\n\u001b[1;32m    162\u001b[0m \u001b[38;5;124;03m    a serializable object for ``o``, or calls the base implementation\u001b[39;00m\n\u001b[1;32m    163\u001b[0m \u001b[38;5;124;03m    (to raise a ``TypeError``).\u001b[39;00m\n\u001b[0;32m   (...)\u001b[0m\n\u001b[1;32m    177\u001b[0m \n\u001b[1;32m    178\u001b[0m \u001b[38;5;124;03m    \"\"\"\u001b[39;00m\n\u001b[0;32m--> 179\u001b[0m     \u001b[38;5;28;01mraise\u001b[39;00m \u001b[38;5;167;01mTypeError\u001b[39;00m(\u001b[38;5;124mf\u001b[39m\u001b[38;5;124m'\u001b[39m\u001b[38;5;124mObject of type \u001b[39m\u001b[38;5;132;01m{\u001b[39;00mo\u001b[38;5;241m.\u001b[39m\u001b[38;5;18m__class__\u001b[39m\u001b[38;5;241m.\u001b[39m\u001b[38;5;18m__name__\u001b[39m\u001b[38;5;132;01m}\u001b[39;00m\u001b[38;5;124m \u001b[39m\u001b[38;5;124m'\u001b[39m\n\u001b[1;32m    180\u001b[0m                     \u001b[38;5;124mf\u001b[39m\u001b[38;5;124m'\u001b[39m\u001b[38;5;124mis not JSON serializable\u001b[39m\u001b[38;5;124m'\u001b[39m)\n",
      "\u001b[0;31mTypeError\u001b[0m: Object of type ChatCompletionMessage is not JSON serializable"
     ]
    }
   ],
   "source": [
    "\n",
    "# Enhanced data storage\n",
    "enhanced_data = []\n",
    "\n",
    "client = OpenAI(\n",
    "    api_key=os.environ.get(\"OPENAI_API_KEY\"),\n",
    "    base_url=os.environ.get(\"OPENAI_API_BASE\")\n",
    ")\n",
    "\n",
    "# Iterate through each group\n",
    "for group_number, group_items in tqdm(enumerate(train_sample), desc=\"Processing groups\"):\n",
    "    enhanced_group = []\n",
    "    for item in group_items:\n",
    "        question = item[\"question\"]\n",
    "        answer = item[\"answer\"]\n",
    "\n",
    "        # Generate enhanced CoT explanation using the OpenAI API\n",
    "        try:\n",
    "            response = client.chat.completions.create(\n",
    "                model=\"gpt-4o-mini\",\n",
    "                messages=[\n",
    "                    {\"role\": \"system\", \"content\": \"You are a helpful assistant specializing in generating well structured explanations for educational content.\"},\n",
    "                    {\n",
    "                        \"role\": \"user\",\n",
    "                        \"content\": f\"Question: {question}\\nAnswer: {answer}\\nGenerate a detailed chain of thought explanation for the answer, do not include the question itself.\"\n",
    "                    }\n",
    "                ]\n",
    "            )\n",
    "            cot_prompt = response.choices[0].message.content\n",
    "\n",
    "            # Add the CoT prompt to the original item\n",
    "            item[\"cot_prompt\"] = cot_prompt\n",
    "            enhanced_group.append(item)\n",
    "        except Exception as e:\n",
    "            print(\n",
    "                f\"Error processing group {group_number}, item: {question}. Error: {e}\")\n",
    "            continue\n",
    "\n",
    "    # Append enhanced group to the data\n",
    "    enhanced_data.append(enhanced_group)\n",
    "\n"
   ]
  },
  {
   "cell_type": "code",
   "execution_count": 11,
   "metadata": {},
   "outputs": [
    {
     "name": "stdout",
     "output_type": "stream",
     "text": [
      "All 'cot_prompt' fields have been updated to their 'content' attribute.\n"
     ]
    }
   ],
   "source": [
    "# Iterate over the groups in enhanced_data\n",
    "for group in enhanced_data:\n",
    "    # Iterate over the items in each group\n",
    "    for item in group:\n",
    "        # Replace 'cot_prompt' object with its 'content' attribute\n",
    "        if hasattr(item[\"cot_prompt\"], \"content\"):\n",
    "            item[\"cot_prompt\"] = item[\"cot_prompt\"].content\n",
    "\n",
    "print(\"All 'cot_prompt' fields have been updated to their 'content' attribute.\")\n"
   ]
  },
  {
   "cell_type": "code",
   "execution_count": 12,
   "metadata": {},
   "outputs": [
    {
     "data": {
      "text/plain": [
       "{'question': 'For an operations manager job at a company, a person with a degree earns three times the amount paid to a diploma holder for the same position. How much will Jared earn from the company in a year after graduating with a degree if the pay for a person holding a diploma certificate is $4000 per month?',\n",
       " 'answer': 'Since the pay for a person holding a degree is three times the amount paid for a diploma holder, Jared will earn 3*$4000 = $<<4000*3=12000>>12000 per month.\\nIn a year with 12 months, Jared will earn a total of 12*12000 = <<12*12000=144000>>144000\\n#### 144000',\n",
       " 'group_number': 0,\n",
       " 'cot_prompt': \"To determine how much Jared will earn in a year after graduating with a degree, we start by assessing the monthly salary for each type of qualification. \\n\\n1. **Identify the salary of a diploma holder**: We know that a person with a diploma earns $4000 per month.\\n\\n2. **Calculate the salary of a degree holder**: Given that someone with a degree earns three times the amount paid to a diploma holder, we need to multiply the diploma holder's salary by three. \\n   - Calculation for monthly salary: \\n     \\\\[\\n     \\\\text{Degree holder's salary} = 3 \\\\times \\\\text{Diploma holder's salary} = 3 \\\\times 4000 = 12000\\n     \\\\]\\n   So, a person with a degree, like Jared, earns $12,000 per month.\\n\\n3. **Calculate the annual salary**: Since there are 12 months in a year, we can find the annual earnings by multiplying the monthly salary by 12.\\n   - Calculation for annual salary:\\n     \\\\[\\n     \\\\text{Annual salary} = \\\\text{Monthly salary} \\\\times 12 = 12000 \\\\times 12 = 144000\\n     \\\\]\\n   Jared will earn a total of $144,000 in a year after graduating with a degree.\\n\\nPutting it all together, after understanding the salary structure based on qualifications and performing the necessary calculations, we find that Jared's annual salary will be $144,000.\"}"
      ]
     },
     "execution_count": 12,
     "metadata": {},
     "output_type": "execute_result"
    }
   ],
   "source": [
    "enhanced_data[0][0]"
   ]
  },
  {
   "cell_type": "code",
   "execution_count": 13,
   "metadata": {},
   "outputs": [
    {
     "name": "stdout",
     "output_type": "stream",
     "text": [
      "Enhanced data with CoT prompts has been saved to '../grade-school-math/grade_school_math/data/train_sample_cot.json'.\n"
     ]
    }
   ],
   "source": [
    "# Save the enhanced data to a new file\n",
    "with open(train_sample_cot_file, 'w') as f:\n",
    "    json.dump(enhanced_data, f, indent=2, ensure_ascii=False)\n",
    "\n",
    "print(\n",
    "    f\"Enhanced data with CoT prompts has been saved to '{train_sample_cot_file}'.\")"
   ]
  },
  {
   "cell_type": "code",
   "execution_count": 17,
   "metadata": {},
   "outputs": [
    {
     "name": "stdout",
     "output_type": "stream",
     "text": [
      "File '../grade-school-math/grade_school_math/data/train_gr20_cot_qa.jsonl' has been successfully created.\n"
     ]
    }
   ],
   "source": [
    "import json\n",
    "import random\n",
    "\n",
    "# Load grouped training data\n",
    "grouped_training = []\n",
    "with open(grouped_training_file, 'r') as f:\n",
    "    for line in f:\n",
    "        grouped_training.append(json.loads(line))\n",
    "\n",
    "# Load sampled training data\n",
    "with open(train_sample_cot_file, 'r') as f:\n",
    "    train_sample = json.load(f)\n",
    "\n",
    "# Ensure train_sample has exactly 20 lists (one for each group)\n",
    "assert len(train_sample) == 20, \"Train sample must contain 20 groups.\"\n",
    "\n",
    "# Create the output file\n",
    "with open(output_file, 'w') as out_f:\n",
    "    for item in grouped_training:\n",
    "        group_number = item['group_number']\n",
    "        # Get a random sample from the same group\n",
    "        cot_prompt = random.choice(train_sample[group_number])\n",
    "        # Construct the new JSON object\n",
    "        new_item = {\n",
    "            \"cot_prompt\": cot_prompt,\n",
    "            \"qa\": item\n",
    "        }\n",
    "        # Write to the output file in JSONL format\n",
    "        out_f.write(json.dumps(new_item) + '\\n')\n",
    "\n",
    "print(f\"File '{output_file}' has been successfully created.\")\n"
   ]
  },
  {
   "cell_type": "code",
   "execution_count": null,
   "metadata": {},
   "outputs": [],
   "source": []
  },
  {
   "cell_type": "code",
   "execution_count": null,
   "metadata": {},
   "outputs": [],
   "source": []
  },
  {
   "cell_type": "code",
   "execution_count": null,
   "metadata": {},
   "outputs": [],
   "source": []
  }
 ],
 "metadata": {
  "kernelspec": {
   "display_name": "cu121",
   "language": "python",
   "name": "python3"
  },
  "language_info": {
   "codemirror_mode": {
    "name": "ipython",
    "version": 3
   },
   "file_extension": ".py",
   "mimetype": "text/x-python",
   "name": "python",
   "nbconvert_exporter": "python",
   "pygments_lexer": "ipython3",
   "version": "3.10.15"
  }
 },
 "nbformat": 4,
 "nbformat_minor": 2
}
