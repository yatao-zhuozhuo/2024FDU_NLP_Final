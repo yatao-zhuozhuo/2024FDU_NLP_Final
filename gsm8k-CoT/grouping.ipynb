{
 "cells": [
  {
   "cell_type": "code",
   "execution_count": 1,
   "metadata": {},
   "outputs": [],
   "source": [
    "%load_ext autoreload\n",
    "%autoreload 2"
   ]
  },
  {
   "cell_type": "markdown",
   "metadata": {},
   "source": [
    "# Get embeddings of sentences"
   ]
  },
  {
   "cell_type": "markdown",
   "metadata": {},
   "source": [
    "Get questions in train.jsonl"
   ]
  },
  {
   "cell_type": "code",
   "execution_count": 2,
   "metadata": {},
   "outputs": [
    {
     "name": "stdout",
     "output_type": "stream",
     "text": [
      "Number of questions in train dataset: 7473\n"
     ]
    }
   ],
   "source": [
    "from utils import *\n",
    "import os\n",
    "\n",
    "dataset_root = '../grade-school-math/grade_school_math/data'\n",
    "\n",
    "qa_pairs = read_jsonl(os.path.join(dataset_root, 'train.jsonl'))\n",
    "questions = [e['question'] for e in qa_pairs]\n",
    "print(f'Number of questions in train dataset: {len(questions)}')"
   ]
  },
  {
   "cell_type": "code",
   "execution_count": 3,
   "metadata": {},
   "outputs": [
    {
     "name": "stdout",
     "output_type": "stream",
     "text": [
      "Device: cuda\n",
      "Embedding shape: torch.Size([7473, 768])\n"
     ]
    }
   ],
   "source": [
    "from sentence_transformers import SentenceTransformer\n",
    "import torch\n",
    "\n",
    "device = 'cuda' if torch.cuda.is_available() else 'cpu'\n",
    "print(f'Device: {device}')\n",
    "\n",
    "# Load a lightweight transformer model\n",
    "model = SentenceTransformer('all-distilroberta-v1', device=device)\n",
    "\n",
    "# Compute sentence embeddings\n",
    "embeddings = model.encode(questions, convert_to_tensor=True)\n",
    "\n",
    "# Optional: check tensor shape\n",
    "print(\"Embedding shape:\", embeddings.shape)"
   ]
  },
  {
   "cell_type": "code",
   "execution_count": 4,
   "metadata": {},
   "outputs": [
    {
     "name": "stdout",
     "output_type": "stream",
     "text": [
      "[9, 0, 4, 5, 5, 19, 14, 14, 10, 0]\n"
     ]
    }
   ],
   "source": [
    "group_numbers = cluster_embeddings(embeddings, num_clusters=20)  # Example: 10 clusters\n",
    "\n",
    "# Print the first 10 group numbers\n",
    "print(group_numbers[:10])"
   ]
  },
  {
   "cell_type": "code",
   "execution_count": 5,
   "metadata": {},
   "outputs": [],
   "source": [
    "add_group_numbers_to_jsonl(original_file_path=os.path.join(dataset_root, 'train.jsonl'),\n",
    "                           new_file_path=os.path.join(dataset_root, 'train_gr20.jsonl'), group_numbers=group_numbers)"
   ]
  },
  {
   "cell_type": "code",
   "execution_count": 6,
   "metadata": {},
   "outputs": [
    {
     "name": "stdout",
     "output_type": "stream",
     "text": [
      "{9: 823, 0: 291, 4: 330, 5: 200, 19: 314, 14: 489, 10: 664, 6: 412, 12: 198, 15: 361, 7: 414, 17: 286, 11: 242, 16: 346, 1: 227, 18: 576, 3: 330, 8: 396, 2: 221, 13: 353}\n"
     ]
    }
   ],
   "source": [
    "print(count_items_in_groups(group_numbers))"
   ]
  },
  {
   "cell_type": "code",
   "execution_count": null,
   "metadata": {},
   "outputs": [],
   "source": []
  }
 ],
 "metadata": {
  "kernelspec": {
   "display_name": "cu121",
   "language": "python",
   "name": "python3"
  },
  "language_info": {
   "codemirror_mode": {
    "name": "ipython",
    "version": 3
   },
   "file_extension": ".py",
   "mimetype": "text/x-python",
   "name": "python",
   "nbconvert_exporter": "python",
   "pygments_lexer": "ipython3",
   "version": "3.10.15"
  }
 },
 "nbformat": 4,
 "nbformat_minor": 2
}
